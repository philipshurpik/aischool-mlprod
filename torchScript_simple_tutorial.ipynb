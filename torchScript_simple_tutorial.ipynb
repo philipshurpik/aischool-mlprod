{
 "cells": [
  {
   "cell_type": "markdown",
   "metadata": {
    "id": "cBiMOHmLBdHP"
   },
   "source": [
    "\n",
    "Introduction to TorchScript\n",
    "==========================="
   ]
  },
  {
   "cell_type": "code",
   "execution_count": 1,
   "metadata": {
    "colab": {
     "base_uri": "https://localhost:8080/"
    },
    "id": "VarNlzlNBdHQ",
    "outputId": "bd97db31-b42e-45e7-fbe6-5e978857d017"
   },
   "outputs": [
    {
     "name": "stdout",
     "output_type": "stream",
     "text": [
      "1.8.2+cu111\n"
     ]
    }
   ],
   "source": [
    "import torch # This is all you need to use both PyTorch and TorchScript!\n",
    "print(torch.__version__)"
   ]
  },
  {
   "cell_type": "markdown",
   "metadata": {
    "id": "oLJm3aOpBdHQ"
   },
   "source": [
    "Basics of PyTorch Model Authoring\n",
    "---------------------------------\n",
    "\n",
    "Let’s start out be defining a simple ``Module``. A ``Module`` is the\n",
    "basic unit of composition in PyTorch. It contains:\n",
    "\n",
    "1. A constructor, which prepares the module for invocation\n",
    "2. A set of ``Parameters`` and sub-\\ ``Modules``. These are initialized\n",
    "   by the constructor and can be used by the module during invocation.\n",
    "3. A ``forward`` function. This is the code that is run when the module\n",
    "   is invoked.\n",
    "\n",
    "Let’s examine a small example:\n",
    "\n",
    "\n"
   ]
  },
  {
   "cell_type": "code",
   "execution_count": 2,
   "metadata": {},
   "outputs": [],
   "source": [
    "x = torch.rand(1, 2)\n",
    "h = torch.rand(1, 2)"
   ]
  },
  {
   "cell_type": "code",
   "execution_count": 3,
   "metadata": {
    "colab": {
     "base_uri": "https://localhost:8080/"
    },
    "id": "l71TtAy-BdHR",
    "outputId": "71fb27a8-ebca-459c-c3da-4043338e6b8d",
    "scrolled": true
   },
   "outputs": [
    {
     "name": "stdout",
     "output_type": "stream",
     "text": [
      "MyCell(\n",
      "  (linear): Linear(in_features=2, out_features=2, bias=True)\n",
      ")\n",
      "(tensor([[-0.9252, -0.3446]], grad_fn=<AddmmBackward>), tensor([[-0.4981, -0.3001]], grad_fn=<TanhBackward>))\n"
     ]
    }
   ],
   "source": [
    "class MyCell(torch.nn.Module):\n",
    "    def __init__(self):\n",
    "        super(MyCell, self).__init__()\n",
    "        self.linear = torch.nn.Linear(2, 2)\n",
    "\n",
    "    def forward(self, x, h):\n",
    "        lin = self.linear(x)\n",
    "        new_h = torch.tanh(lin + h)\n",
    "        return lin, new_h\n",
    "\n",
    "my_cell = MyCell()\n",
    "print(my_cell)\n",
    "print(my_cell(x, h))"
   ]
  },
  {
   "cell_type": "markdown",
   "metadata": {
    "id": "yfnXRJ9-BdHS"
   },
   "source": [
    "Let's add some more logic - decision gate )"
   ]
  },
  {
   "cell_type": "code",
   "execution_count": 4,
   "metadata": {
    "colab": {
     "base_uri": "https://localhost:8080/"
    },
    "id": "d0jS31CdBdHS",
    "outputId": "9119dc4c-0a18-4cae-e286-8ec928228b85"
   },
   "outputs": [
    {
     "name": "stdout",
     "output_type": "stream",
     "text": [
      "MyCellDG(\n",
      "  (dg): MyDecisionGate()\n",
      "  (linear): Linear(in_features=2, out_features=2, bias=True)\n",
      ")\n",
      "(tensor([[-0.1605, -0.3371]], grad_fn=<AddmmBackward>), tensor([[0.4922, 0.3558]], grad_fn=<TanhBackward>))\n"
     ]
    }
   ],
   "source": [
    "class MyDecisionGate(torch.nn.Module):\n",
    "    def forward(self, x):\n",
    "        if x.sum() > 0:\n",
    "            return x\n",
    "        else:\n",
    "            return -x\n",
    "\n",
    "class MyCellDG(torch.nn.Module):\n",
    "    def __init__(self):\n",
    "        super(MyCellDG, self).__init__()\n",
    "        self.dg = MyDecisionGate()\n",
    "        self.linear = torch.nn.Linear(2, 2)\n",
    "\n",
    "    def forward(self, x, h):\n",
    "        lin = self.linear(x)\n",
    "        new_h = torch.tanh(self.dg(lin) + h)\n",
    "        return lin, new_h\n",
    "\n",
    "my_cell_dg = MyCellDG()\n",
    "print(my_cell_dg)\n",
    "print(my_cell_dg(x, h))"
   ]
  },
  {
   "cell_type": "markdown",
   "metadata": {
    "id": "11RCRBL3BdHT"
   },
   "source": [
    "We’ve once again redefined our MyCell class, but here we’ve defined\n",
    "``MyDecisionGate``. This module utilizes **control flow**. Control flow\n",
    "consists of things like loops and ``if``-statements.\n",
    "\n",
    "Many frameworks take the approach of computing symbolic derivatives\n",
    "given a full program representation. However, in PyTorch, we use a\n",
    "gradient tape. We record operations as they occur, and replay them\n",
    "backwards in computing derivatives. In this way, the framework does not\n",
    "have to explicitly define derivatives for all constructs in the\n",
    "language.\n",
    "\n",
    ".. figure:: https://github.com/pytorch/pytorch/raw/master/docs/source/_static/img/dynamic_graph.gif\n",
    "   :alt: How autograd works\n",
    "\n",
    "   How autograd works\n",
    "\n",
    "\n"
   ]
  },
  {
   "cell_type": "markdown",
   "metadata": {
    "id": "XpqJZMn_BdHT"
   },
   "source": [
    "Basics of TorchScript\n",
    "---------------------\n",
    "\n",
    "Now let’s take our running example and see how we can apply TorchScript.\n",
    "\n",
    "In short, TorchScript provides tools to capture the definition of your\n",
    "model, even in light of the flexible and dynamic nature of PyTorch.\n",
    "Let’s begin by examining what we call **tracing**.\n",
    "\n",
    "Tracing ``Modules``\n",
    "~~~~~~~~~~~~~~~~~~~\n",
    "\n",
    "\n"
   ]
  },
  {
   "cell_type": "code",
   "execution_count": 5,
   "metadata": {
    "colab": {
     "base_uri": "https://localhost:8080/"
    },
    "id": "h2O_UNfMBdHT",
    "outputId": "d8fe8f0d-f42a-474e-9a5a-2c40baeb1460"
   },
   "outputs": [
    {
     "name": "stdout",
     "output_type": "stream",
     "text": [
      "MyCell(\n",
      "  original_name=MyCell\n",
      "  (linear): Linear(original_name=Linear)\n",
      ")\n"
     ]
    },
    {
     "data": {
      "text/plain": [
       "(tensor([[-0.9252, -0.3446]], grad_fn=<AddBackward0>),\n",
       " tensor([[-0.4981, -0.3001]], grad_fn=<TanhBackward>))"
      ]
     },
     "execution_count": 5,
     "metadata": {},
     "output_type": "execute_result"
    }
   ],
   "source": [
    "traced_cell = torch.jit.trace(my_cell, (x, h))\n",
    "# traced_cell_dg = torch.jit.trace(my_cell_dg, (x, h))\n",
    "print(traced_cell)\n",
    "traced_cell(x, h)"
   ]
  },
  {
   "cell_type": "markdown",
   "metadata": {
    "id": "9ICWBvxwBdHT"
   },
   "source": [
    "We’ve rewinded a bit and taken the second version of our ``MyCell``\n",
    "class. As before, we’ve instantiated it, but this time, we’ve called\n",
    "``torch.jit.trace``, passed in the ``Module``, and passed in *example\n",
    "inputs* the network might see.\n",
    "\n",
    "What exactly has this done? It has invoked the ``Module``, recorded the\n",
    "operations that occured when the ``Module`` was run, and created an\n",
    "instance of ``torch.jit.ScriptModule`` (of which ``TracedModule`` is an\n",
    "instance)\n",
    "\n",
    "TorchScript records its definitions in an Intermediate Representation\n",
    "(or IR), commonly referred to in Deep learning as a *graph*. We can\n",
    "examine the graph with the ``.graph`` property:\n",
    "\n",
    "\n"
   ]
  },
  {
   "cell_type": "code",
   "execution_count": 6,
   "metadata": {
    "colab": {
     "base_uri": "https://localhost:8080/"
    },
    "id": "c3KCrfcMBdHU",
    "outputId": "3b99c16c-a1da-4ab0-ecae-607586ec8935"
   },
   "outputs": [
    {
     "name": "stdout",
     "output_type": "stream",
     "text": [
      "graph(%self.1 : __torch__.MyCell,\n",
      "      %input : Float(1, 2, strides=[2, 1], requires_grad=0, device=cpu),\n",
      "      %h : Float(1, 2, strides=[2, 1], requires_grad=0, device=cpu)):\n",
      "  %21 : __torch__.torch.nn.modules.linear.Linear = prim::GetAttr[name=\"linear\"](%self.1)\n",
      "  %23 : Tensor = prim::CallMethod[name=\"forward\"](%21, %input)\n",
      "  %14 : int = prim::Constant[value=1]() # /tmp/ipykernel_7432/2142782686.py:8:0\n",
      "  %15 : Float(1, 2, strides=[2, 1], requires_grad=1, device=cpu) = aten::add(%23, %h, %14) # /tmp/ipykernel_7432/2142782686.py:8:0\n",
      "  %16 : Float(1, 2, strides=[2, 1], requires_grad=1, device=cpu) = aten::tanh(%15) # /tmp/ipykernel_7432/2142782686.py:8:0\n",
      "  %17 : (Float(1, 2, strides=[2, 1], requires_grad=1, device=cpu), Float(1, 2, strides=[2, 1], requires_grad=1, device=cpu)) = prim::TupleConstruct(%23, %16)\n",
      "  return (%17)\n",
      "\n"
     ]
    }
   ],
   "source": [
    "print(traced_cell.graph)"
   ]
  },
  {
   "cell_type": "markdown",
   "metadata": {
    "id": "1pWe0OXlBdHU"
   },
   "source": [
    "However, this is a very low-level representation and most of the\n",
    "information contained in the graph is not useful for end users. Instead,\n",
    "we can use the ``.code`` property to give a Python-syntax interpretation\n",
    "of the code:\n",
    "\n",
    "\n"
   ]
  },
  {
   "cell_type": "code",
   "execution_count": 7,
   "metadata": {
    "id": "KvLKWyJ2BdHU"
   },
   "outputs": [
    {
     "name": "stdout",
     "output_type": "stream",
     "text": [
      "def forward(self,\n",
      "    input: Tensor,\n",
      "    h: Tensor) -> Tuple[Tensor, Tensor]:\n",
      "  _0 = (self.linear).forward(input, )\n",
      "  _1 = (_0, torch.tanh(torch.add(_0, h, alpha=1)))\n",
      "  return _1\n",
      "\n"
     ]
    }
   ],
   "source": [
    "print(traced_cell.code)"
   ]
  },
  {
   "cell_type": "markdown",
   "metadata": {
    "id": "WsHFmcoGBdHU"
   },
   "source": [
    "So **why** did we do all this? There are several reasons:\n",
    "\n",
    "1. TorchScript code can be invoked in its own interpreter, which is\n",
    "   basically a restricted Python interpreter. This interpreter does not\n",
    "   acquire the Global Interpreter Lock, and so many requests can be\n",
    "   processed on the same instance simultaneously.\n",
    "2. This format allows us to save the whole model to disk and load it\n",
    "   into another environment, such as in a server written in a language\n",
    "   other than Python\n",
    "3. TorchScript gives us a representation in which we can do compiler\n",
    "   optimizations on the code to provide more efficient execution\n",
    "4. TorchScript allows us to interface with many backend/device runtimes\n",
    "   that require a broader view of the program than individual operators.\n",
    "\n",
    "We can see that invoking ``traced_cell`` produces the same results as\n",
    "the Python module:\n",
    "\n",
    "\n"
   ]
  },
  {
   "cell_type": "code",
   "execution_count": 8,
   "metadata": {
    "id": "v3DjUGTbBdHU"
   },
   "outputs": [
    {
     "name": "stdout",
     "output_type": "stream",
     "text": [
      "(tensor([[-0.9252, -0.3446]], grad_fn=<AddmmBackward>), tensor([[-0.4981, -0.3001]], grad_fn=<TanhBackward>))\n",
      "(tensor([[-0.9252, -0.3446]], grad_fn=<AddBackward0>), tensor([[-0.4981, -0.3001]], grad_fn=<TanhBackward>))\n"
     ]
    }
   ],
   "source": [
    "print(my_cell(x, h))\n",
    "print(traced_cell(x, h))"
   ]
  },
  {
   "cell_type": "markdown",
   "metadata": {
    "id": "UgEvrAOjBdHU"
   },
   "source": [
    "Using Scripting to Convert Modules\n",
    "----------------------------------\n",
    "\n",
    "There’s a reason we used version two of our module, and not the one with\n",
    "the control-flow-laden submodule. Let’s examine that now:\n",
    "\n",
    "\n"
   ]
  },
  {
   "cell_type": "code",
   "execution_count": 9,
   "metadata": {
    "id": "qqy1xiMfBdHU"
   },
   "outputs": [
    {
     "name": "stdout",
     "output_type": "stream",
     "text": [
      "def forward(self,\n",
      "    input: Tensor,\n",
      "    h: Tensor) -> Tuple[Tensor, Tensor]:\n",
      "  _0 = self.dg\n",
      "  _1 = (self.linear).forward(input, )\n",
      "  _2 = (_0).forward(_1, )\n",
      "  _3 = torch.tanh(torch.add(_1, h, alpha=1))\n",
      "  return (_3, _3)\n",
      "\n"
     ]
    },
    {
     "name": "stderr",
     "output_type": "stream",
     "text": [
      "/tmp/ipykernel_7432/3115164013.py:3: TracerWarning: Converting a tensor to a Python boolean might cause the trace to be incorrect. We can't record the data flow of Python values, so this value will be treated as a constant in the future. This means that the trace might not generalize to other inputs!\n",
      "  if x.sum() > 0:\n"
     ]
    }
   ],
   "source": [
    "class MyCellDGP(torch.nn.Module):\n",
    "    def __init__(self, dg):\n",
    "        super(MyCellDGP, self).__init__()\n",
    "        self.dg = dg\n",
    "        self.linear = torch.nn.Linear(2, 2)\n",
    "\n",
    "    def forward(self, x, h):\n",
    "        new_h = torch.tanh(self.dg(self.linear(x)) + h)\n",
    "        return new_h, new_h\n",
    "      \n",
    "my_cell = MyCellDGP(MyDecisionGate())\n",
    "traced_cell = torch.jit.trace(my_cell, (x, h))\n",
    "print(traced_cell.code)"
   ]
  },
  {
   "cell_type": "markdown",
   "metadata": {
    "id": "mHYktEyNBdHV"
   },
   "source": [
    "Looking at the ``.code`` output, we can see that the ``if-else`` branch\n",
    "is nowhere to be found! Why? Tracing does exactly what we said it would:\n",
    "run the code, record the operations *that happen* and construct a\n",
    "ScriptModule that does exactly that. Unfortunately, things like control\n",
    "flow are erased.\n",
    "\n",
    "How can we faithfully represent this module in TorchScript? We provide a\n",
    "**script compiler**, which does direct analysis of your Python source\n",
    "code to transform it into TorchScript. Let’s convert ``MyDecisionGate``\n",
    "using the script compiler:\n",
    "\n",
    "\n"
   ]
  },
  {
   "cell_type": "code",
   "execution_count": 10,
   "metadata": {
    "id": "GtDvTujpBdHV"
   },
   "outputs": [
    {
     "name": "stdout",
     "output_type": "stream",
     "text": [
      "def forward(self,\n",
      "    x: Tensor,\n",
      "    h: Tensor) -> Tuple[Tensor, Tensor]:\n",
      "  _0 = (self.dg).forward((self.linear).forward(x, ), )\n",
      "  new_h = torch.tanh(torch.add(_0, h, alpha=1))\n",
      "  return (new_h, new_h)\n",
      "\n"
     ]
    }
   ],
   "source": [
    "scripted_gate = torch.jit.script(MyDecisionGate())\n",
    "\n",
    "my_cell = MyCellDGP(scripted_gate)\n",
    "traced_cell = torch.jit.script(my_cell)\n",
    "print(traced_cell.code)"
   ]
  },
  {
   "cell_type": "markdown",
   "metadata": {
    "id": "_rGXpdDQBdHV"
   },
   "source": [
    "Hooray! We’ve now faithfully captured the behavior of our program in\n",
    "TorchScript. Let’s now try running the program:\n",
    "\n",
    "\n"
   ]
  },
  {
   "cell_type": "code",
   "execution_count": 11,
   "metadata": {
    "id": "Uw4MUKUlBdHV"
   },
   "outputs": [
    {
     "data": {
      "text/plain": [
       "(tensor([[0.1346, 0.5547]], grad_fn=<TanhBackward>),\n",
       " tensor([[0.1346, 0.5547]], grad_fn=<TanhBackward>))"
      ]
     },
     "execution_count": 11,
     "metadata": {},
     "output_type": "execute_result"
    }
   ],
   "source": [
    "# New inputs\n",
    "x, h = torch.rand(1, 2), torch.rand(1, 2)\n",
    "traced_cell(x, h)"
   ]
  },
  {
   "cell_type": "markdown",
   "metadata": {
    "id": "jDaAbJ3uBdHV"
   },
   "source": [
    "Mixing Scripting and Tracing\n",
    "~~~~~~~~~~~~~~~~~~~~~~~~~~~~\n",
    "\n",
    "Some situations call for using tracing rather than scripting (e.g. a\n",
    "module has many architectural decisions that are made based on constant\n",
    "Python values that we would like to not appear in TorchScript). In this\n",
    "case, scripting can be composed with tracing: ``torch.jit.script`` will\n",
    "inline the code for a traced module, and tracing will inline the code\n",
    "for a scripted module.\n",
    "\n",
    "An example of the first case:\n",
    "\n",
    "\n"
   ]
  },
  {
   "cell_type": "markdown",
   "metadata": {
    "id": "Cq25KxDVBdHV"
   },
   "source": [
    "This way, scripting and tracing can be used when the situation calls for\n",
    "each of them and used together.\n",
    "\n",
    "Saving and Loading models\n",
    "-------------------------\n",
    "\n",
    "We provide APIs to save and load TorchScript modules to/from disk in an\n",
    "archive format. This format includes code, parameters, attributes, and\n",
    "debug information, meaning that the archive is a freestanding\n",
    "representation of the model that can be loaded in an entirely separate\n",
    "process. Let’s save and load our wrapped RNN module:\n",
    "\n",
    "\n"
   ]
  },
  {
   "cell_type": "code",
   "execution_count": 12,
   "metadata": {},
   "outputs": [
    {
     "name": "stdout",
     "output_type": "stream",
     "text": [
      "def forward(self,\n",
      "    xs: Tensor) -> Tuple[Tensor, Tensor]:\n",
      "  h = torch.zeros([1, 2], dtype=None, layout=None, device=None, pin_memory=None)\n",
      "  y = torch.zeros([1, 2], dtype=None, layout=None, device=None, pin_memory=None)\n",
      "  y0 = y\n",
      "  h0 = h\n",
      "  for i in range(torch.size(xs, 0)):\n",
      "    _0 = (self.cell).forward(torch.select(xs, 0, i), h0, )\n",
      "    y1, h1, = _0\n",
      "    y0, h0 = y1, h1\n",
      "  return (y0, h0)\n",
      "\n"
     ]
    }
   ],
   "source": [
    "class MyRNNLoop(torch.nn.Module):\n",
    "    def __init__(self):\n",
    "        super(MyRNNLoop, self).__init__()\n",
    "        self.cell = torch.jit.trace(MyCellDGP(scripted_gate), (x, h))\n",
    "\n",
    "    def forward(self, xs):\n",
    "        h, y = torch.zeros(1, 2), torch.zeros(1, 2)\n",
    "        for i in range(xs.size(0)):\n",
    "            y, h = self.cell(xs[i], h)\n",
    "        return y, h\n",
    "\n",
    "rnn_loop = torch.jit.script(MyRNNLoop())\n",
    "print(rnn_loop.code)"
   ]
  },
  {
   "cell_type": "code",
   "execution_count": 13,
   "metadata": {},
   "outputs": [
    {
     "name": "stdout",
     "output_type": "stream",
     "text": [
      "def forward(self,\n",
      "    argument_1: Tensor) -> Tensor:\n",
      "  _0, y, = (self.loop).forward(argument_1, )\n",
      "  return torch.relu(y)\n",
      "\n"
     ]
    }
   ],
   "source": [
    "class WrapRNN(torch.nn.Module):\n",
    "    def __init__(self):\n",
    "        super(WrapRNN, self).__init__()\n",
    "        self.loop = torch.jit.script(MyRNNLoop())\n",
    "\n",
    "    def forward(self, xs):\n",
    "        y, h = self.loop(xs)\n",
    "        return torch.relu(y)\n",
    "\n",
    "traced = torch.jit.trace(WrapRNN(), (torch.rand(10, 1, 2)))\n",
    "print(traced.code)"
   ]
  },
  {
   "cell_type": "code",
   "execution_count": 14,
   "metadata": {
    "id": "jw2YPIn4BdHW"
   },
   "outputs": [
    {
     "name": "stdout",
     "output_type": "stream",
     "text": [
      "RecursiveScriptModule(\n",
      "  original_name=WrapRNN\n",
      "  (loop): RecursiveScriptModule(\n",
      "    original_name=MyRNNLoop\n",
      "    (cell): RecursiveScriptModule(\n",
      "      original_name=MyCellDGP\n",
      "      (dg): RecursiveScriptModule(original_name=MyDecisionGate)\n",
      "      (linear): RecursiveScriptModule(original_name=Linear)\n",
      "    )\n",
      "  )\n",
      ")\n",
      "def forward(self,\n",
      "    argument_1: Tensor) -> Tensor:\n",
      "  _0, y, = (self.loop).forward(argument_1, )\n",
      "  return torch.relu(y)\n",
      "\n"
     ]
    }
   ],
   "source": [
    "traced.save('wrapped_rnn.zip')\n",
    "\n",
    "loaded = torch.jit.load('wrapped_rnn.zip')\n",
    "\n",
    "print(loaded)\n",
    "print(loaded.code)"
   ]
  },
  {
   "cell_type": "markdown",
   "metadata": {
    "id": "Ox8XsUdLBdHW"
   },
   "source": [
    "As you can see, serialization preserves the module hierarchy and the\n",
    "code we’ve been examining throughout. The model can also be loaded, for\n",
    "example, `into\n",
    "C++ <https://pytorch.org/tutorials/advanced/cpp_export.html>`__ for\n",
    "python-free execution.\n",
    "\n",
    "Further Reading\n",
    "~~~~~~~~~~~~~~~\n",
    "\n",
    "We’ve completed our tutorial! For a more involved demonstration, check\n",
    "out the NeurIPS demo for converting machine translation models using\n",
    "TorchScript:\n",
    "https://colab.research.google.com/drive/1HiICg6jRkBnr5hvK2-VnMi88Vi9pUzEJ\n",
    "\n",
    "\n"
   ]
  },
  {
   "cell_type": "code",
   "execution_count": null,
   "metadata": {},
   "outputs": [],
   "source": []
  },
  {
   "cell_type": "code",
   "execution_count": null,
   "metadata": {},
   "outputs": [],
   "source": []
  },
  {
   "cell_type": "code",
   "execution_count": null,
   "metadata": {},
   "outputs": [],
   "source": []
  }
 ],
 "metadata": {
  "colab": {
   "name": "Intro_to_TorchScript_tutorial.ipynb",
   "provenance": []
  },
  "kernelspec": {
   "display_name": "Python 3 (ipykernel)",
   "language": "python",
   "name": "python3"
  },
  "language_info": {
   "codemirror_mode": {
    "name": "ipython",
    "version": 3
   },
   "file_extension": ".py",
   "mimetype": "text/x-python",
   "name": "python",
   "nbconvert_exporter": "python",
   "pygments_lexer": "ipython3",
   "version": "3.8.10"
  }
 },
 "nbformat": 4,
 "nbformat_minor": 1
}
